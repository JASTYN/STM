{
 "cells": [
  {
   "cell_type": "code",
   "execution_count": 1,
   "id": "d9259ac8",
   "metadata": {},
   "outputs": [
    {
     "ename": "DatabaseError",
     "evalue": "1007 (HY000): Can't create database 'dbpython'; database exists",
     "output_type": "error",
     "traceback": [
      "\u001b[1;31m---------------------------------------------------------------------------\u001b[0m",
      "\u001b[1;31mMySQLInterfaceError\u001b[0m                       Traceback (most recent call last)",
      "\u001b[1;32m~\\AppData\\Local\\Programs\\Python\\Python310\\lib\\site-packages\\mysql\\connector\\connection_cext.py\u001b[0m in \u001b[0;36mcmd_query\u001b[1;34m(self, query, raw, buffered, raw_as_string)\u001b[0m\n\u001b[0;32m    522\u001b[0m                 \u001b[0mquery\u001b[0m \u001b[1;33m=\u001b[0m \u001b[0mquery\u001b[0m\u001b[1;33m.\u001b[0m\u001b[0mencode\u001b[0m\u001b[1;33m(\u001b[0m\u001b[1;34m'utf-8'\u001b[0m\u001b[1;33m)\u001b[0m\u001b[1;33m\u001b[0m\u001b[1;33m\u001b[0m\u001b[0m\n\u001b[1;32m--> 523\u001b[1;33m             self._cmysql.query(query,\n\u001b[0m\u001b[0;32m    524\u001b[0m                                \u001b[0mraw\u001b[0m\u001b[1;33m=\u001b[0m\u001b[0mraw\u001b[0m\u001b[1;33m,\u001b[0m \u001b[0mbuffered\u001b[0m\u001b[1;33m=\u001b[0m\u001b[0mbuffered\u001b[0m\u001b[1;33m,\u001b[0m\u001b[1;33m\u001b[0m\u001b[1;33m\u001b[0m\u001b[0m\n",
      "\u001b[1;31mMySQLInterfaceError\u001b[0m: Can't create database 'dbpython'; database exists",
      "\nDuring handling of the above exception, another exception occurred:\n",
      "\u001b[1;31mDatabaseError\u001b[0m                             Traceback (most recent call last)",
      "\u001b[1;32m~\\AppData\\Local\\Temp/ipykernel_11192/1834085641.py\u001b[0m in \u001b[0;36m<module>\u001b[1;34m\u001b[0m\n\u001b[0;32m      2\u001b[0m \u001b[0mmysqldb\u001b[0m\u001b[1;33m=\u001b[0m\u001b[0mmysql\u001b[0m\u001b[1;33m.\u001b[0m\u001b[0mconnector\u001b[0m\u001b[1;33m.\u001b[0m\u001b[0mconnect\u001b[0m\u001b[1;33m(\u001b[0m\u001b[0mhost\u001b[0m\u001b[1;33m=\u001b[0m\u001b[1;34m\"localhost\"\u001b[0m\u001b[1;33m,\u001b[0m\u001b[0muser\u001b[0m\u001b[1;33m=\u001b[0m\u001b[1;34m\"root\"\u001b[0m\u001b[1;33m,\u001b[0m\u001b[0mpassword\u001b[0m\u001b[1;33m=\u001b[0m\u001b[1;34m\"2022.\"\u001b[0m\u001b[1;33m)\u001b[0m\u001b[1;33m\u001b[0m\u001b[1;33m\u001b[0m\u001b[0m\n\u001b[0;32m      3\u001b[0m \u001b[0mmycursor\u001b[0m\u001b[1;33m=\u001b[0m\u001b[0mmysqldb\u001b[0m\u001b[1;33m.\u001b[0m\u001b[0mcursor\u001b[0m\u001b[1;33m(\u001b[0m\u001b[1;33m)\u001b[0m\u001b[1;33m\u001b[0m\u001b[1;33m\u001b[0m\u001b[0m\n\u001b[1;32m----> 4\u001b[1;33m \u001b[0mmycursor\u001b[0m\u001b[1;33m.\u001b[0m\u001b[0mexecute\u001b[0m\u001b[1;33m(\u001b[0m\u001b[1;34m\"create database dbpython\"\u001b[0m\u001b[1;33m)\u001b[0m\u001b[1;33m\u001b[0m\u001b[1;33m\u001b[0m\u001b[0m\n\u001b[0m\u001b[0;32m      5\u001b[0m \u001b[0mmysqldb\u001b[0m\u001b[1;33m.\u001b[0m\u001b[0mclose\u001b[0m\u001b[1;33m(\u001b[0m\u001b[1;33m)\u001b[0m\u001b[1;33m\u001b[0m\u001b[1;33m\u001b[0m\u001b[0m\n",
      "\u001b[1;32m~\\AppData\\Local\\Programs\\Python\\Python310\\lib\\site-packages\\mysql\\connector\\cursor_cext.py\u001b[0m in \u001b[0;36mexecute\u001b[1;34m(self, operation, params, multi)\u001b[0m\n\u001b[0;32m    267\u001b[0m \u001b[1;33m\u001b[0m\u001b[0m\n\u001b[0;32m    268\u001b[0m         \u001b[1;32mtry\u001b[0m\u001b[1;33m:\u001b[0m\u001b[1;33m\u001b[0m\u001b[1;33m\u001b[0m\u001b[0m\n\u001b[1;32m--> 269\u001b[1;33m             result = self._cnx.cmd_query(stmt, raw=self._raw,\n\u001b[0m\u001b[0;32m    270\u001b[0m                                          \u001b[0mbuffered\u001b[0m\u001b[1;33m=\u001b[0m\u001b[0mself\u001b[0m\u001b[1;33m.\u001b[0m\u001b[0m_buffered\u001b[0m\u001b[1;33m,\u001b[0m\u001b[1;33m\u001b[0m\u001b[1;33m\u001b[0m\u001b[0m\n\u001b[0;32m    271\u001b[0m                                          raw_as_string=self._raw_as_string)\n",
      "\u001b[1;32m~\\AppData\\Local\\Programs\\Python\\Python310\\lib\\site-packages\\mysql\\connector\\connection_cext.py\u001b[0m in \u001b[0;36mcmd_query\u001b[1;34m(self, query, raw, buffered, raw_as_string)\u001b[0m\n\u001b[0;32m    526\u001b[0m                                query_attrs=self._query_attrs)\n\u001b[0;32m    527\u001b[0m         \u001b[1;32mexcept\u001b[0m \u001b[0mMySQLInterfaceError\u001b[0m \u001b[1;32mas\u001b[0m \u001b[0mexc\u001b[0m\u001b[1;33m:\u001b[0m\u001b[1;33m\u001b[0m\u001b[1;33m\u001b[0m\u001b[0m\n\u001b[1;32m--> 528\u001b[1;33m             raise errors.get_mysql_exception(exc.errno, msg=exc.msg,\n\u001b[0m\u001b[0;32m    529\u001b[0m                                              sqlstate=exc.sqlstate)\n\u001b[0;32m    530\u001b[0m         \u001b[1;32mexcept\u001b[0m \u001b[0mAttributeError\u001b[0m\u001b[1;33m:\u001b[0m\u001b[1;33m\u001b[0m\u001b[1;33m\u001b[0m\u001b[0m\n",
      "\u001b[1;31mDatabaseError\u001b[0m: 1007 (HY000): Can't create database 'dbpython'; database exists"
     ]
    }
   ],
   "source": [
    "import mysql.connector \n",
    "mysqldb=mysql.connector.connect(host=\"localhost\",user=\"root\",password=\"2022.\")    \n",
    "mycursor=mysqldb.cursor()  \n",
    "mycursor.execute(\"create database dbpython\")   \n",
    "mysqldb.close()"
   ]
  },
  {
   "cell_type": "markdown",
   "id": "65722a31",
   "metadata": {},
   "source": [
    "create table"
   ]
  },
  {
   "cell_type": "code",
   "execution_count": 4,
   "id": "528b9c0e",
   "metadata": {},
   "outputs": [],
   "source": [
    "import mysql.connector  \n",
    "mysqldb=mysql.connector.connect(host=\"localhost\",user=\"root\",password=\"2022.\",database=\"dbpython\")   \n",
    "mycursor=mysqldb.cursor()\n",
    "mycursor.execute(\"create table student(roll INT,name VARCHAR(255), marks INT)\")  \n",
    "mysqldb.close()"
   ]
  },
  {
   "cell_type": "markdown",
   "id": "3031b35a",
   "metadata": {},
   "source": [
    "insert"
   ]
  },
  {
   "cell_type": "code",
   "execution_count": 2,
   "id": "d8d01a15",
   "metadata": {},
   "outputs": [
    {
     "name": "stdout",
     "output_type": "stream",
     "text": [
      "Record inserted successfully...\n"
     ]
    }
   ],
   "source": [
    "import mysql.connector  \n",
    "mysqldb=mysql.connector.connect(host=\"localhost\",user=\"root\",password=\"2022.\",database=\"dbpython\")  \n",
    "mycursor=mysqldb.cursor()#cursor() method create a cursor object    \n",
    "try:    \n",
    "   mycursor.execute(\"insert into student values(1,'Sorit',80),(2,'Kumar',89),(3,'Susmita',90)\")  \n",
    "   mysqldb.commit() # Commit is used for your changes in the database  \n",
    "   print('Record inserted successfully...')   \n",
    "except:     \n",
    "   mysqldb.rollback()  \n",
    "mysqldb.close()"
   ]
  },
  {
   "cell_type": "markdown",
   "id": "abc10cfd",
   "metadata": {},
   "source": [
    "read"
   ]
  },
  {
   "cell_type": "code",
   "execution_count": 3,
   "id": "05961e83",
   "metadata": {},
   "outputs": [
    {
     "name": "stdout",
     "output_type": "stream",
     "text": [
      "1 Ramu 100\n",
      "3 Susmita 90\n",
      "1 Sorit 80\n",
      "2 Kumar 89\n",
      "3 Susmita 90\n"
     ]
    }
   ],
   "source": [
    "import mysql.connector  \n",
    "mysqldb=mysql.connector.connect(host=\"localhost\",user=\"root\",password=\"2022.\",database=\"dbpython\")  \n",
    "mycursor=mysqldb.cursor() \n",
    "try:  \n",
    "   mycursor.execute(\"select * from student\")  \n",
    "   result=mycursor.fetchall()   \n",
    "   for i in result:    \n",
    "      roll=i[0]  \n",
    "      name=i[1]  \n",
    "      marks=i[2]  \n",
    "      print(roll,name,marks)  \n",
    "except:   \n",
    "   print('Error:Unable to fetch data.')  \n",
    "mysqldb.close()"
   ]
  },
  {
   "cell_type": "markdown",
   "id": "9dcee0ac",
   "metadata": {},
   "source": [
    "update\n"
   ]
  },
  {
   "cell_type": "code",
   "execution_count": 10,
   "id": "5b6ecbe1",
   "metadata": {},
   "outputs": [
    {
     "name": "stdout",
     "output_type": "stream",
     "text": [
      "Record updated successfully...\n"
     ]
    }
   ],
   "source": [
    "import mysql.connector  \n",
    "mysqldb=mysql.connector.connect(host=\"localhost\",user=\"root\",password=\"2022.\",database=\"dbpython\") \n",
    "mycursor=mysqldb.cursor()\n",
    "try:  \n",
    "   mycursor.execute(\"UPDATE student SET name='Ramu', marks=100 WHERE roll=1\")\n",
    "   mysqldb.commit()   \n",
    "   print('Record updated successfully...')   \n",
    "except:     \n",
    "   mysqldb.rollback()  \n",
    "mysqldb.close()#Connecti"
   ]
  },
  {
   "cell_type": "code",
   "execution_count": 11,
   "id": "57955699",
   "metadata": {},
   "outputs": [
    {
     "name": "stdout",
     "output_type": "stream",
     "text": [
      "Record deteted successfully...\n"
     ]
    }
   ],
   "source": [
    "import mysql.connector   \n",
    "mysqldb=mysql.connector.connect(host=\"localhost\",user=\"root\",password=\"2022.\",database=\"dbpython\") \n",
    "mycursor=mysqldb.cursor()   \n",
    "try:   \n",
    "   mycursor.execute(\"DELETE FROM student WHERE roll=2\")   \n",
    "   mysqldb.commit()  \n",
    "   print('Record deteted successfully...')  \n",
    "except:    \n",
    "   mysqldb.rollback()  \n",
    "mysqldb.close() "
   ]
  },
  {
   "cell_type": "code",
   "execution_count": null,
   "id": "7d6e6bf5",
   "metadata": {},
   "outputs": [],
   "source": []
  }
 ],
 "metadata": {
  "kernelspec": {
   "display_name": "Python 3 (ipykernel)",
   "language": "python",
   "name": "python3"
  },
  "language_info": {
   "codemirror_mode": {
    "name": "ipython",
    "version": 3
   },
   "file_extension": ".py",
   "mimetype": "text/x-python",
   "name": "python",
   "nbconvert_exporter": "python",
   "pygments_lexer": "ipython3",
   "version": "3.10.0"
  }
 },
 "nbformat": 4,
 "nbformat_minor": 5
}
