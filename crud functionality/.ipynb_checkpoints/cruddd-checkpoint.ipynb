{
 "cells": [
  {
   "cell_type": "code",
   "execution_count": 2,
   "id": "cb603414",
   "metadata": {},
   "outputs": [],
   "source": [
    "import mysql.connector \n",
    "mysqldb=mysql.connector.connect(host=\"localhost\",user=\"root\",password=\"2022.\")    \n",
    "mycursor=mysqldb.cursor()  \n",
    "mycursor.execute(\"create database mopython\")   \n",
    "mysqldb.close()"
   ]
  },
  {
   "cell_type": "markdown",
   "id": "8679db37",
   "metadata": {},
   "source": [
    "create table"
   ]
  },
  {
   "cell_type": "code",
   "execution_count": 3,
   "id": "49739998",
   "metadata": {},
   "outputs": [],
   "source": [
    "import mysql.connector  \n",
    "mysqldb=mysql.connector.connect(host=\"localhost\",user=\"root\",password=\"2022.\",database=\"mopython\")   \n",
    "mycursor=mysqldb.cursor()\n",
    "mycursor.execute(\"create table student(roll INT,name VARCHAR(255), marks INT)\")  \n",
    "mysqldb.close()"
   ]
  },
  {
   "cell_type": "markdown",
   "id": "9193854a",
   "metadata": {},
   "source": [
    "insert"
   ]
  },
  {
   "cell_type": "code",
   "execution_count": 4,
   "id": "01f54287",
   "metadata": {},
   "outputs": [
    {
     "name": "stdout",
     "output_type": "stream",
     "text": [
      "Record inserted successfully...\n"
     ]
    }
   ],
   "source": [
    "import mysql.connector  \n",
    "mysqldb=mysql.connector.connect(host=\"localhost\",user=\"root\",password=\"2022.\",database=\"mopython\")  \n",
    "mycursor=mysqldb.cursor()#cursor() method create a cursor object    \n",
    "try:    \n",
    "   mycursor.execute(\"insert into student values(1,'Sorit',80),(2,'Kumar',89),(3,'Susmita',90)\")  \n",
    "   mysqldb.commit() # Commit is used for your changes in the database  \n",
    "   print('Record inserted successfully...')   \n",
    "except:     \n",
    "   mysqldb.rollback()  \n",
    "mysqldb.close()"
   ]
  },
  {
   "cell_type": "code",
   "execution_count": 7,
   "id": "9b83f0b2",
   "metadata": {},
   "outputs": [
    {
     "name": "stdout",
     "output_type": "stream",
     "text": [
      "1 Sorit 80\n",
      "2 Kumar 89\n",
      "3 Susmita 90\n"
     ]
    }
   ],
   "source": [
    "import mysql.connector  \n",
    "mysqldb=mysql.connector.connect(host=\"localhost\",user=\"root\",password=\"2022.\",database=\"mopython\")  \n",
    "mycursor=mysqldb.cursor() \n",
    "try:  \n",
    "   mycursor.execute(\"select * from student\")  \n",
    "   result=mycursor.fetchall()   \n",
    "   for i in result:    \n",
    "      roll=i[0]  \n",
    "      name=i[1]  \n",
    "      marks=i[2]  \n",
    "      print(roll,name,marks)  \n",
    "except:   \n",
    "   print('Error:Unable to fetch data.')  \n",
    "mysqldb.close()"
   ]
  },
  {
   "cell_type": "code",
   "execution_count": 8,
   "id": "58a11b37",
   "metadata": {},
   "outputs": [
    {
     "ename": "NameError",
     "evalue": "name 'update' is not defined",
     "output_type": "error",
     "traceback": [
      "\u001b[1;31m---------------------------------------------------------------------------\u001b[0m",
      "\u001b[1;31mNameError\u001b[0m                                 Traceback (most recent call last)",
      "\u001b[1;32m~\\AppData\\Local\\Temp/ipykernel_13768/2418845902.py\u001b[0m in \u001b[0;36m<module>\u001b[1;34m\u001b[0m\n\u001b[1;32m----> 1\u001b[1;33m \u001b[0mupdate\u001b[0m\u001b[1;33m\u001b[0m\u001b[1;33m\u001b[0m\u001b[0m\n\u001b[0m",
      "\u001b[1;31mNameError\u001b[0m: name 'update' is not defined"
     ]
    }
   ],
   "source": [
    "update\n"
   ]
  },
  {
   "cell_type": "code",
   "execution_count": 10,
   "id": "4dfecc1f",
   "metadata": {},
   "outputs": [
    {
     "name": "stdout",
     "output_type": "stream",
     "text": [
      "Record updated successfully...\n"
     ]
    }
   ],
   "source": [
    "import mysql.connector  \n",
    "mysqldb=mysql.connector.connect(host=\"localhost\",user=\"root\",password=\"2022.\",database=\"dbpython\") \n",
    "mycursor=mysqldb.cursor()\n",
    "try:  \n",
    "   mycursor.execute(\"UPDATE student SET name='Ramu', marks=100 WHERE roll=1\")\n",
    "   mysqldb.commit()   \n",
    "   print('Record updated successfully...')   \n",
    "except:     \n",
    "   mysqldb.rollback()  \n",
    "mysqldb.close()#Connecti"
   ]
  },
  {
   "cell_type": "code",
   "execution_count": 11,
   "id": "81c4b584",
   "metadata": {},
   "outputs": [
    {
     "name": "stdout",
     "output_type": "stream",
     "text": [
      "Record deteted successfully...\n"
     ]
    }
   ],
   "source": [
    "import mysql.connector   \n",
    "mysqldb=mysql.connector.connect(host=\"localhost\",user=\"root\",password=\"2022.\",database=\"dbpython\") \n",
    "mycursor=mysqldb.cursor()   \n",
    "try:   \n",
    "   mycursor.execute(\"DELETE FROM student WHERE roll=2\")   \n",
    "   mysqldb.commit()  \n",
    "   print('Record deteted successfully...')  \n",
    "except:    \n",
    "   mysqldb.rollback()  \n",
    "mysqldb.close() "
   ]
  },
  {
   "cell_type": "code",
   "execution_count": null,
   "id": "a89c0973",
   "metadata": {},
   "outputs": [],
   "source": []
  }
 ],
 "metadata": {
  "kernelspec": {
   "display_name": "Python 3 (ipykernel)",
   "language": "python",
   "name": "python3"
  },
  "language_info": {
   "codemirror_mode": {
    "name": "ipython",
    "version": 3
   },
   "file_extension": ".py",
   "mimetype": "text/x-python",
   "name": "python",
   "nbconvert_exporter": "python",
   "pygments_lexer": "ipython3",
   "version": "3.10.0"
  }
 },
 "nbformat": 4,
 "nbformat_minor": 5
}
